{
 "cells": [
  {
   "metadata": {},
   "cell_type": "markdown",
   "source": [
    "# Part 1\n",
    "by: Rafael Carlo Posadas"
   ],
   "id": "40e357cd72105403"
  },
  {
   "cell_type": "code",
   "id": "initial_id",
   "metadata": {
    "collapsed": true,
    "ExecuteTime": {
     "end_time": "2025-03-20T11:41:34.902297Z",
     "start_time": "2025-03-20T11:41:34.898787Z"
    }
   },
   "source": [
    "import numpy as np\n",
    "import pandas as pd"
   ],
   "outputs": [],
   "execution_count": 1899
  },
  {
   "metadata": {
    "ExecuteTime": {
     "end_time": "2025-03-20T11:41:34.995354Z",
     "start_time": "2025-03-20T11:41:34.917820Z"
    }
   },
   "cell_type": "code",
   "source": "df0 = pd.read_csv('KSI_dataset.csv')",
   "id": "c2a042820403a198",
   "outputs": [],
   "execution_count": 1900
  },
  {
   "metadata": {},
   "cell_type": "markdown",
   "source": "## Data exploration",
   "id": "19a3198e7affb708"
  },
  {
   "metadata": {
    "ExecuteTime": {
     "end_time": "2025-03-20T11:41:35.000502Z",
     "start_time": "2025-03-20T11:41:34.997360Z"
    }
   },
   "cell_type": "code",
   "source": "print(f\"Shape: {df0.shape}\")",
   "id": "6355a8033335b971",
   "outputs": [
    {
     "name": "stdout",
     "output_type": "stream",
     "text": [
      "Shape: (18957, 54)\n"
     ]
    }
   ],
   "execution_count": 1901
  },
  {
   "metadata": {
    "ExecuteTime": {
     "end_time": "2025-03-20T11:41:35.005234Z",
     "start_time": "2025-03-20T11:41:35.002511Z"
    }
   },
   "cell_type": "code",
   "source": [
    "# Show all columns\n",
    "print(f\"Columns: \\n{df0.columns.tolist()}\")"
   ],
   "id": "daf7cbeaad53dbd7",
   "outputs": [
    {
     "name": "stdout",
     "output_type": "stream",
     "text": [
      "Columns: \n",
      "['OBJECTID', 'INDEX', 'ACCNUM', 'DATE', 'TIME', 'STREET1', 'STREET2', 'OFFSET', 'ROAD_CLASS', 'DISTRICT', 'LATITUDE', 'LONGITUDE', 'ACCLOC', 'TRAFFCTL', 'VISIBILITY', 'LIGHT', 'RDSFCOND', 'ACCLASS', 'IMPACTYPE', 'INVTYPE', 'INVAGE', 'INJURY', 'FATAL_NO', 'INITDIR', 'VEHTYPE', 'MANOEUVER', 'DRIVACT', 'DRIVCOND', 'PEDTYPE', 'PEDACT', 'PEDCOND', 'CYCLISTYPE', 'CYCACT', 'CYCCOND', 'PEDESTRIAN', 'CYCLIST', 'AUTOMOBILE', 'MOTORCYCLE', 'TRUCK', 'TRSN_CITY_VEH', 'EMERG_VEH', 'PASSENGER', 'SPEEDING', 'AG_DRIV', 'REDLIGHT', 'ALCOHOL', 'DISABILITY', 'HOOD_158', 'NEIGHBOURHOOD_158', 'HOOD_140', 'NEIGHBOURHOOD_140', 'DIVISION', 'x', 'y']\n"
     ]
    }
   ],
   "execution_count": 1902
  },
  {
   "metadata": {
    "ExecuteTime": {
     "end_time": "2025-03-20T11:41:35.030720Z",
     "start_time": "2025-03-20T11:41:35.007182Z"
    }
   },
   "cell_type": "code",
   "source": [
    "# Data types of each column.\n",
    "print(\"Data types:\\n\")\n",
    "df0.info()"
   ],
   "id": "5a100abb689c3447",
   "outputs": [
    {
     "name": "stdout",
     "output_type": "stream",
     "text": [
      "Data types:\n",
      "\n",
      "<class 'pandas.core.frame.DataFrame'>\n",
      "RangeIndex: 18957 entries, 0 to 18956\n",
      "Data columns (total 54 columns):\n",
      " #   Column             Non-Null Count  Dtype  \n",
      "---  ------             --------------  -----  \n",
      " 0   OBJECTID           18957 non-null  int64  \n",
      " 1   INDEX              18957 non-null  int64  \n",
      " 2   ACCNUM             14027 non-null  float64\n",
      " 3   DATE               18957 non-null  object \n",
      " 4   TIME               18957 non-null  int64  \n",
      " 5   STREET1            18957 non-null  object \n",
      " 6   STREET2            17251 non-null  object \n",
      " 7   OFFSET             3820 non-null   object \n",
      " 8   ROAD_CLASS         18471 non-null  object \n",
      " 9   DISTRICT           18728 non-null  object \n",
      " 10  LATITUDE           18957 non-null  float64\n",
      " 11  LONGITUDE          18957 non-null  float64\n",
      " 12  ACCLOC             13501 non-null  object \n",
      " 13  TRAFFCTL           18882 non-null  object \n",
      " 14  VISIBILITY         18933 non-null  object \n",
      " 15  LIGHT              18953 non-null  object \n",
      " 16  RDSFCOND           18928 non-null  object \n",
      " 17  ACCLASS            18956 non-null  object \n",
      " 18  IMPACTYPE          18930 non-null  object \n",
      " 19  INVTYPE            18941 non-null  object \n",
      " 20  INVAGE             18957 non-null  object \n",
      " 21  INJURY             10060 non-null  object \n",
      " 22  FATAL_NO           870 non-null    float64\n",
      " 23  INITDIR            13680 non-null  object \n",
      " 24  VEHTYPE            15470 non-null  object \n",
      " 25  MANOEUVER          11004 non-null  object \n",
      " 26  DRIVACT            9668 non-null   object \n",
      " 27  DRIVCOND           9666 non-null   object \n",
      " 28  PEDTYPE            3229 non-null   object \n",
      " 29  PEDACT             3227 non-null   object \n",
      " 30  PEDCOND            3246 non-null   object \n",
      " 31  CYCLISTYPE         805 non-null    object \n",
      " 32  CYCACT             802 non-null    object \n",
      " 33  CYCCOND            800 non-null    object \n",
      " 34  PEDESTRIAN         7688 non-null   object \n",
      " 35  CYCLIST            1986 non-null   object \n",
      " 36  AUTOMOBILE         17230 non-null  object \n",
      " 37  MOTORCYCLE         1684 non-null   object \n",
      " 38  TRUCK              1169 non-null   object \n",
      " 39  TRSN_CITY_VEH      1148 non-null   object \n",
      " 40  EMERG_VEH          49 non-null     object \n",
      " 41  PASSENGER          7183 non-null   object \n",
      " 42  SPEEDING           2694 non-null   object \n",
      " 43  AG_DRIV            9836 non-null   object \n",
      " 44  REDLIGHT           1577 non-null   object \n",
      " 45  ALCOHOL            808 non-null    object \n",
      " 46  DISABILITY         493 non-null    object \n",
      " 47  HOOD_158           18957 non-null  object \n",
      " 48  NEIGHBOURHOOD_158  18957 non-null  object \n",
      " 49  HOOD_140           18957 non-null  object \n",
      " 50  NEIGHBOURHOOD_140  18957 non-null  object \n",
      " 51  DIVISION           18957 non-null  object \n",
      " 52  x                  18957 non-null  float64\n",
      " 53  y                  18957 non-null  float64\n",
      "dtypes: float64(6), int64(3), object(45)\n",
      "memory usage: 7.8+ MB\n"
     ]
    }
   ],
   "execution_count": 1903
  },
  {
   "metadata": {},
   "cell_type": "markdown",
   "source": "## Data pre-processing",
   "id": "8a18a79edc09fe9f"
  },
  {
   "metadata": {
    "ExecuteTime": {
     "end_time": "2025-03-20T11:41:35.052452Z",
     "start_time": "2025-03-20T11:41:35.032236Z"
    }
   },
   "cell_type": "code",
   "source": [
    "# Identify only columns with missing values.\n",
    "df0_null_count = df0.isnull().sum()\n",
    "df0_null_count[df0_null_count > 0]"
   ],
   "id": "817819bd72a3619b",
   "outputs": [
    {
     "data": {
      "text/plain": [
       "ACCNUM            4930\n",
       "STREET2           1706\n",
       "OFFSET           15137\n",
       "ROAD_CLASS         486\n",
       "DISTRICT           229\n",
       "ACCLOC            5456\n",
       "TRAFFCTL            75\n",
       "VISIBILITY          24\n",
       "LIGHT                4\n",
       "RDSFCOND            29\n",
       "ACCLASS              1\n",
       "IMPACTYPE           27\n",
       "INVTYPE             16\n",
       "INJURY            8897\n",
       "FATAL_NO         18087\n",
       "INITDIR           5277\n",
       "VEHTYPE           3487\n",
       "MANOEUVER         7953\n",
       "DRIVACT           9289\n",
       "DRIVCOND          9291\n",
       "PEDTYPE          15728\n",
       "PEDACT           15730\n",
       "PEDCOND          15711\n",
       "CYCLISTYPE       18152\n",
       "CYCACT           18155\n",
       "CYCCOND          18157\n",
       "PEDESTRIAN       11269\n",
       "CYCLIST          16971\n",
       "AUTOMOBILE        1727\n",
       "MOTORCYCLE       17273\n",
       "TRUCK            17788\n",
       "TRSN_CITY_VEH    17809\n",
       "EMERG_VEH        18908\n",
       "PASSENGER        11774\n",
       "SPEEDING         16263\n",
       "AG_DRIV           9121\n",
       "REDLIGHT         17380\n",
       "ALCOHOL          18149\n",
       "DISABILITY       18464\n",
       "dtype: int64"
      ]
     },
     "execution_count": 1904,
     "metadata": {},
     "output_type": "execute_result"
    }
   ],
   "execution_count": 1904
  },
  {
   "metadata": {},
   "cell_type": "markdown",
   "source": "#### Duplicate original dataset and impute binary columns with 'No'.",
   "id": "3e0eb5556cfbf441"
  },
  {
   "metadata": {
    "ExecuteTime": {
     "end_time": "2025-03-20T11:41:35.103010Z",
     "start_time": "2025-03-20T11:41:35.054863Z"
    }
   },
   "cell_type": "code",
   "source": [
    "df1 = df0.copy()\n",
    "for col in df1.columns:\n",
    "    if df1[col].isin([\"Yes\", None]).any():\n",
    "        df1[col] = df1[col].fillna(\"No\")"
   ],
   "id": "69da6c26e8753cd",
   "outputs": [],
   "execution_count": 1905
  },
  {
   "metadata": {
    "ExecuteTime": {
     "end_time": "2025-03-20T11:41:35.126385Z",
     "start_time": "2025-03-20T11:41:35.106016Z"
    }
   },
   "cell_type": "code",
   "source": [
    "# Probably not significant to examine, so this cell is not included in the .py file.\n",
    "\n",
    "# Calculate the difference in null counts for 'Yes'/'No' columns.\n",
    "df1_null_count = df1.isnull().sum()\n",
    "null_count_difference = df0_null_count - df1_null_count\n",
    "\n",
    "# Identify and print columns where missing values were replaced with \"No\".\n",
    "columns_with_changes = null_count_difference[null_count_difference > 0].index\n",
    "print(f\"Columns with missing values replaced by 'No':\\n{columns_with_changes.tolist()}\")"
   ],
   "id": "e5b4c803a109aae0",
   "outputs": [
    {
     "name": "stdout",
     "output_type": "stream",
     "text": [
      "Columns with missing values replaced by 'No':\n",
      "['PEDESTRIAN', 'CYCLIST', 'AUTOMOBILE', 'MOTORCYCLE', 'TRUCK', 'TRSN_CITY_VEH', 'EMERG_VEH', 'PASSENGER', 'SPEEDING', 'AG_DRIV', 'REDLIGHT', 'ALCOHOL', 'DISABILITY']\n"
     ]
    }
   ],
   "execution_count": 1906
  },
  {
   "metadata": {},
   "cell_type": "markdown",
   "source": "#### Breakdown DATE column into smaller components",
   "id": "d4aa4875482d9183"
  },
  {
   "metadata": {
    "ExecuteTime": {
     "end_time": "2025-03-20T11:41:35.150742Z",
     "start_time": "2025-03-20T11:41:35.128904Z"
    }
   },
   "cell_type": "code",
   "source": [
    "# Convert the DATE column to datetime. This will be dropped later.\n",
    "df1['DATE'] = pd.to_datetime(df1['DATE'])\n",
    "# Extract day, month, and year into their own columns.\n",
    "df1['DAY_OF_WEEK'] = df1['DATE'].dt.day_name()\n",
    "df1['DAY'] = df1['DATE'].dt.day\n",
    "df1['MONTH'] = df1['DATE'].dt.month\n",
    "df1['YEAR'] = df1['DATE'].dt.year\n",
    "# Extract the hour component. This is not instructed, just personal preference for plot usage.\n",
    "df1['HOUR'] = (df1['TIME'] // 100).astype(int)"
   ],
   "id": "e70db718fa700fdf",
   "outputs": [],
   "execution_count": 1907
  },
  {
   "metadata": {},
   "cell_type": "markdown",
   "source": "#### Remove insignificant columns (>80% missing values)",
   "id": "73249f21408ae526"
  },
  {
   "metadata": {
    "ExecuteTime": {
     "end_time": "2025-03-20T11:41:35.175139Z",
     "start_time": "2025-03-20T11:41:35.153261Z"
    }
   },
   "cell_type": "code",
   "source": [
    "# Identify columns with over 80% missing values.\n",
    "missing_percentage = df1.isnull().sum() / len(df1) * 100\n",
    "print(f\"Missing values percentages: \\n{missing_percentage[missing_percentage > 0]}\\n\")\n",
    "# Columns within .5% will be considered\n",
    "columns_to_drop = missing_percentage[missing_percentage >= 80].index.tolist()\n",
    "print(f\"Columns with >80% missing values:\\n{columns_to_drop}\")"
   ],
   "id": "1bc259c116535adf",
   "outputs": [
    {
     "name": "stdout",
     "output_type": "stream",
     "text": [
      "Missing values percentages: \n",
      "ACCNUM        26.006225\n",
      "STREET2        8.999314\n",
      "OFFSET        79.849132\n",
      "ROAD_CLASS     2.563697\n",
      "DISTRICT       1.207997\n",
      "ACCLOC        28.780925\n",
      "TRAFFCTL       0.395632\n",
      "VISIBILITY     0.126602\n",
      "LIGHT          0.021100\n",
      "RDSFCOND       0.152978\n",
      "ACCLASS        0.005275\n",
      "IMPACTYPE      0.142428\n",
      "INVTYPE        0.084402\n",
      "INJURY        46.932532\n",
      "FATAL_NO      95.410666\n",
      "INITDIR       27.836683\n",
      "VEHTYPE       18.394261\n",
      "MANOEUVER     41.952841\n",
      "DRIVACT       49.000369\n",
      "DRIVCOND      49.010919\n",
      "PEDTYPE       82.966714\n",
      "PEDACT        82.977264\n",
      "PEDCOND       82.877038\n",
      "CYCLISTYPE    95.753548\n",
      "CYCACT        95.769373\n",
      "CYCCOND       95.779923\n",
      "dtype: float64\n",
      "\n",
      "Columns with >80% missing values:\n",
      "['FATAL_NO', 'PEDTYPE', 'PEDACT', 'PEDCOND', 'CYCLISTYPE', 'CYCACT', 'CYCCOND']\n"
     ]
    }
   ],
   "execution_count": 1908
  },
  {
   "metadata": {
    "ExecuteTime": {
     "end_time": "2025-03-20T11:41:35.187797Z",
     "start_time": "2025-03-20T11:41:35.177144Z"
    }
   },
   "cell_type": "code",
   "source": [
    "# - Drop columns with over 80% missing values.\n",
    "# - The added columns are instructed as redundant and to be dropped.\n",
    "# - 'WARDNUM' and 'POLICE_DIVISION' were not found in the table, so they're excluded.\n",
    "# - 'OFFSET' has 79.8% is missing; close enough to 80% so it's also being dropped.\n",
    "columns_to_drop.extend([\n",
    "    'DATE',\n",
    "    'OBJECTID',\n",
    "    'INDEX',\n",
    "    'NEIGHBOURHOOD_158',\n",
    "    'NEIGHBOURHOOD_140',\n",
    "    'x',\n",
    "    'y',\n",
    "    'INITDIR',\n",
    "    'STREET1',\n",
    "    'STREET2',\n",
    "    'DIVISION',\n",
    "    # Manual addition:\n",
    "    'OFFSET'\n",
    "    ])\n",
    "df1 = df1.drop(columns=columns_to_drop)"
   ],
   "id": "7a2298dfa03ab15",
   "outputs": [],
   "execution_count": 1909
  },
  {
   "metadata": {
    "ExecuteTime": {
     "end_time": "2025-03-20T11:41:35.193913Z",
     "start_time": "2025-03-20T11:41:35.190803Z"
    }
   },
   "cell_type": "code",
   "source": [
    "# Verify the shape of the updated dataset.\n",
    "print(f\"Shape after dropping columns: {df1.shape}\")"
   ],
   "id": "390072f310807eb1",
   "outputs": [
    {
     "name": "stdout",
     "output_type": "stream",
     "text": [
      "Shape after dropping columns: (18957, 40)\n"
     ]
    }
   ],
   "execution_count": 1910
  },
  {
   "metadata": {},
   "cell_type": "markdown",
   "source": "#### 'ACCLASS' will be the target column as this classifies the accident type - according to the PSDP_Open_Data_Documentation - and also due to its values being only 'Fatal' or 'Non-Fatal'.",
   "id": "5aeb2f528ff02ffa"
  },
  {
   "metadata": {
    "ExecuteTime": {
     "end_time": "2025-03-20T11:41:35.200271Z",
     "start_time": "2025-03-20T11:41:35.196423Z"
    }
   },
   "cell_type": "code",
   "source": [
    "# Identify all values in ACCLASS column for correction.\n",
    "print(\"'ACCLASS' before correction:\")\n",
    "print(f\"unique: {df1['ACCLASS'].unique().tolist()}\")\n",
    "print(f\"nulls : {df1['ACCLASS'].isnull().sum()}\")"
   ],
   "id": "587a211061bbf2ba",
   "outputs": [
    {
     "name": "stdout",
     "output_type": "stream",
     "text": [
      "'ACCLASS' before correction:\n",
      "unique: ['Non-Fatal Injury', 'Fatal', 'Property Damage O', nan]\n",
      "nulls : 1\n"
     ]
    }
   ],
   "execution_count": 1911
  },
  {
   "metadata": {},
   "cell_type": "markdown",
   "source": "#### Only 'Property Damage' was instructed to be corrected, but any other value that's not 'Fatal' will be converted to 'Non-Fatal'.",
   "id": "3a9a171ee7d4bef"
  },
  {
   "metadata": {
    "ExecuteTime": {
     "end_time": "2025-03-20T11:41:35.207775Z",
     "start_time": "2025-03-20T11:41:35.202277Z"
    }
   },
   "cell_type": "code",
   "source": [
    "# Change incorrect values to \"Non-Fatal\".\n",
    "# df1['ACCLASS'] = df1['ACCLASS'].replace(['Non-Fatal Injury', 'Property Damage O', None], 'Non-Fatal')\n",
    "df1['ACCLASS'] = df1['ACCLASS'].apply(lambda x: 'Non-Fatal' if x != 'Fatal' else x)"
   ],
   "id": "ebab1e2feb73e1a4",
   "outputs": [],
   "execution_count": 1912
  },
  {
   "metadata": {
    "ExecuteTime": {
     "end_time": "2025-03-20T11:41:35.215190Z",
     "start_time": "2025-03-20T11:41:35.210726Z"
    }
   },
   "cell_type": "code",
   "source": [
    "# Verify updated ACCLASS values.\n",
    "print(\"'ACCLASS' after correction:\")\n",
    "print(f\"unique: {df1['ACCLASS'].unique().tolist()}\")\n",
    "print(f\"nulls : {df1['ACCLASS'].isnull().sum()}\")"
   ],
   "id": "8cd465c526f33bcb",
   "outputs": [
    {
     "name": "stdout",
     "output_type": "stream",
     "text": [
      "'ACCLASS' after correction:\n",
      "unique: ['Non-Fatal', 'Fatal']\n",
      "nulls : 0\n"
     ]
    }
   ],
   "execution_count": 1913
  },
  {
   "metadata": {},
   "cell_type": "markdown",
   "source": "#### Remove insignificant rows",
   "id": "7402ca9595120e69"
  },
  {
   "metadata": {
    "ExecuteTime": {
     "end_time": "2025-03-20T11:41:35.248119Z",
     "start_time": "2025-03-20T11:41:35.218195Z"
    }
   },
   "cell_type": "code",
   "source": [
    "# Identify columns with missing values greater than 0% but less than 3%.\n",
    "missing_percentage = df1.isnull().sum() / len(df1) * 100\n",
    "columns_to_keep = missing_percentage[(missing_percentage > 0) & (missing_percentage < 3)].index\n",
    "print(f\"Columns with missing values >0% and <3%:\\n{columns_to_keep.tolist()}\\n\")\n",
    "\n",
    "# Drop rows with missing values in those columns.\n",
    "df1 = df1.dropna(subset=columns_to_keep)\n",
    "\n",
    "# Verify the shape of the updated dataset after dropping rows.\n",
    "print(f\"Shape after dropping rows: {df1.shape}\")"
   ],
   "id": "bbdbb536fd73d0d7",
   "outputs": [
    {
     "name": "stdout",
     "output_type": "stream",
     "text": [
      "Columns with missing values >0% and <3%:\n",
      "['ROAD_CLASS', 'DISTRICT', 'TRAFFCTL', 'VISIBILITY', 'LIGHT', 'RDSFCOND', 'IMPACTYPE', 'INVTYPE']\n",
      "\n",
      "Shape after dropping rows: (18242, 40)\n"
     ]
    }
   ],
   "execution_count": 1914
  },
  {
   "metadata": {},
   "cell_type": "markdown",
   "source": [
    "#### Fix ACCNUM column\n",
    "- Remove rows with duplicate ACCNUM values from df1.\n",
    "- Hash the entire dataset, find matching hashes, and remove duplicate rows from df1."
   ],
   "id": "514399a7368fcdb0"
  },
  {
   "metadata": {
    "ExecuteTime": {
     "end_time": "2025-03-20T11:41:35.280830Z",
     "start_time": "2025-03-20T11:41:35.250125Z"
    }
   },
   "cell_type": "code",
   "source": "print(df1.isnull().sum()[df1.isnull().sum() > 0])",
   "id": "2d47fc9a9b0d44b7",
   "outputs": [
    {
     "name": "stdout",
     "output_type": "stream",
     "text": [
      "ACCNUM       4825\n",
      "ACCLOC       5153\n",
      "INJURY       8583\n",
      "VEHTYPE      3342\n",
      "MANOEUVER    7681\n",
      "DRIVACT      8958\n",
      "DRIVCOND     8956\n",
      "dtype: int64\n"
     ]
    }
   ],
   "execution_count": 1915
  },
  {
   "metadata": {
    "ExecuteTime": {
     "end_time": "2025-03-20T11:41:35.361691Z",
     "start_time": "2025-03-20T11:41:35.283351Z"
    }
   },
   "cell_type": "code",
   "source": [
    "# This identifies rows with duplicate values in ACCNUM and removes them from df1.\n",
    "df1 = df1[~df1['ACCNUM'].duplicated(keep='first') | df1['ACCNUM'].isna()]\n",
    "# Hash the rest of the dataset and check for more duplicates.\n",
    "df1['hash'] = df1.drop(columns=['ACCNUM']).apply(lambda row: hash(tuple(row)), axis=1)\n",
    "duplicate_mask = df1.duplicated(subset='hash', keep='first')\n",
    "duplicate_rows = df1[duplicate_mask]\n",
    "# Display duplicate rows to be dropped:\n",
    "duplicate_rows"
   ],
   "id": "1a102a0fc571bec5",
   "outputs": [
    {
     "data": {
      "text/plain": [
       "       ACCNUM  TIME      ROAD_CLASS               DISTRICT   LATITUDE  \\\n",
       "11312     NaN  1830  Major Arterial             North York  43.766577   \n",
       "11330     NaN   352  Major Arterial         Etobicoke York  43.708651   \n",
       "11370     NaN  1410  Major Arterial         Etobicoke York  43.690150   \n",
       "11460     NaN   950  Major Arterial             North York  43.755992   \n",
       "11504     NaN  1402           Local            Scarborough  43.794242   \n",
       "...       ...   ...             ...                    ...        ...   \n",
       "16055     NaN  1145  Major Arterial            Scarborough  43.721461   \n",
       "16098     NaN  1445  Minor Arterial         Etobicoke York  43.681376   \n",
       "16134     NaN  1210  Major Arterial             North York  43.727584   \n",
       "16203     NaN  1834  Major Arterial            Scarborough  43.782126   \n",
       "16219     NaN  2118  Major Arterial  Toronto and East York  43.645556   \n",
       "\n",
       "       LONGITUDE                 ACCLOC        TRAFFCTL VISIBILITY  \\\n",
       "11312 -79.388042        At Intersection  Traffic Signal      Clear   \n",
       "11330 -79.478046        At Intersection  Traffic Signal      Clear   \n",
       "11370 -79.475055       Non Intersection      No Control      Clear   \n",
       "11460 -79.314578   Intersection Related      No Control      Clear   \n",
       "11504 -79.303012       Private Driveway       Stop Sign      Clear   \n",
       "...          ...                    ...             ...        ...   \n",
       "16055 -79.284953        At Intersection  Traffic Signal      Clear   \n",
       "16098 -79.467296  At/Near Private Drive      No Control      Clear   \n",
       "16134 -79.340823        At Intersection  Traffic Signal      Clear   \n",
       "16203 -79.232982       Non Intersection      No Control      Clear   \n",
       "16219 -79.369808        At Intersection  Traffic Signal      Clear   \n",
       "\n",
       "                  LIGHT  ... ALCOHOL DISABILITY HOOD_158 HOOD_140 DAY_OF_WEEK  \\\n",
       "11312  Dark, artificial  ...      No         No       52       52      Friday   \n",
       "11330  Dark, artificial  ...      No         No       30       30      Friday   \n",
       "11370          Daylight  ...      No         No      110      110      Monday   \n",
       "11460          Daylight  ...      No         No      119      119      Friday   \n",
       "11504          Daylight  ...      No         No      148      117   Wednesday   \n",
       "...                 ...  ...     ...        ...      ...      ...         ...   \n",
       "16055          Daylight  ...      No        Yes      120      120    Saturday   \n",
       "16098          Daylight  ...      No         No      110      110      Sunday   \n",
       "16134          Daylight  ...      No         No       42       42      Monday   \n",
       "16203  Dark, artificial  ...     Yes         No      142      137      Sunday   \n",
       "16219  Dark, artificial  ...      No         No      166       77   Wednesday   \n",
       "\n",
       "      DAY MONTH  YEAR HOUR                 hash  \n",
       "11312   2     1  2015   18 -7813484725320949686  \n",
       "11330  23     1  2015    3  -352290483480323420  \n",
       "11370  16     2  2015   14   301774956686368960  \n",
       "11460   3     4  2015    9 -3551353901921576048  \n",
       "11504  22     4  2015   14 -2532182689346672961  \n",
       "...    ..   ...   ...  ...                  ...  \n",
       "16055  26    10  2019   11 -3375787301302444876  \n",
       "16098  10    11  2019   14  7824284053311089188  \n",
       "16134  25    11  2019   12  6703629104079587141  \n",
       "16203  22    12  2019   18  7753657922975080916  \n",
       "16219  25    12  2019   21  6231943724305515641  \n",
       "\n",
       "[101 rows x 41 columns]"
      ],
      "text/html": [
       "<div>\n",
       "<style scoped>\n",
       "    .dataframe tbody tr th:only-of-type {\n",
       "        vertical-align: middle;\n",
       "    }\n",
       "\n",
       "    .dataframe tbody tr th {\n",
       "        vertical-align: top;\n",
       "    }\n",
       "\n",
       "    .dataframe thead th {\n",
       "        text-align: right;\n",
       "    }\n",
       "</style>\n",
       "<table border=\"1\" class=\"dataframe\">\n",
       "  <thead>\n",
       "    <tr style=\"text-align: right;\">\n",
       "      <th></th>\n",
       "      <th>ACCNUM</th>\n",
       "      <th>TIME</th>\n",
       "      <th>ROAD_CLASS</th>\n",
       "      <th>DISTRICT</th>\n",
       "      <th>LATITUDE</th>\n",
       "      <th>LONGITUDE</th>\n",
       "      <th>ACCLOC</th>\n",
       "      <th>TRAFFCTL</th>\n",
       "      <th>VISIBILITY</th>\n",
       "      <th>LIGHT</th>\n",
       "      <th>...</th>\n",
       "      <th>ALCOHOL</th>\n",
       "      <th>DISABILITY</th>\n",
       "      <th>HOOD_158</th>\n",
       "      <th>HOOD_140</th>\n",
       "      <th>DAY_OF_WEEK</th>\n",
       "      <th>DAY</th>\n",
       "      <th>MONTH</th>\n",
       "      <th>YEAR</th>\n",
       "      <th>HOUR</th>\n",
       "      <th>hash</th>\n",
       "    </tr>\n",
       "  </thead>\n",
       "  <tbody>\n",
       "    <tr>\n",
       "      <th>11312</th>\n",
       "      <td>NaN</td>\n",
       "      <td>1830</td>\n",
       "      <td>Major Arterial</td>\n",
       "      <td>North York</td>\n",
       "      <td>43.766577</td>\n",
       "      <td>-79.388042</td>\n",
       "      <td>At Intersection</td>\n",
       "      <td>Traffic Signal</td>\n",
       "      <td>Clear</td>\n",
       "      <td>Dark, artificial</td>\n",
       "      <td>...</td>\n",
       "      <td>No</td>\n",
       "      <td>No</td>\n",
       "      <td>52</td>\n",
       "      <td>52</td>\n",
       "      <td>Friday</td>\n",
       "      <td>2</td>\n",
       "      <td>1</td>\n",
       "      <td>2015</td>\n",
       "      <td>18</td>\n",
       "      <td>-7813484725320949686</td>\n",
       "    </tr>\n",
       "    <tr>\n",
       "      <th>11330</th>\n",
       "      <td>NaN</td>\n",
       "      <td>352</td>\n",
       "      <td>Major Arterial</td>\n",
       "      <td>Etobicoke York</td>\n",
       "      <td>43.708651</td>\n",
       "      <td>-79.478046</td>\n",
       "      <td>At Intersection</td>\n",
       "      <td>Traffic Signal</td>\n",
       "      <td>Clear</td>\n",
       "      <td>Dark, artificial</td>\n",
       "      <td>...</td>\n",
       "      <td>No</td>\n",
       "      <td>No</td>\n",
       "      <td>30</td>\n",
       "      <td>30</td>\n",
       "      <td>Friday</td>\n",
       "      <td>23</td>\n",
       "      <td>1</td>\n",
       "      <td>2015</td>\n",
       "      <td>3</td>\n",
       "      <td>-352290483480323420</td>\n",
       "    </tr>\n",
       "    <tr>\n",
       "      <th>11370</th>\n",
       "      <td>NaN</td>\n",
       "      <td>1410</td>\n",
       "      <td>Major Arterial</td>\n",
       "      <td>Etobicoke York</td>\n",
       "      <td>43.690150</td>\n",
       "      <td>-79.475055</td>\n",
       "      <td>Non Intersection</td>\n",
       "      <td>No Control</td>\n",
       "      <td>Clear</td>\n",
       "      <td>Daylight</td>\n",
       "      <td>...</td>\n",
       "      <td>No</td>\n",
       "      <td>No</td>\n",
       "      <td>110</td>\n",
       "      <td>110</td>\n",
       "      <td>Monday</td>\n",
       "      <td>16</td>\n",
       "      <td>2</td>\n",
       "      <td>2015</td>\n",
       "      <td>14</td>\n",
       "      <td>301774956686368960</td>\n",
       "    </tr>\n",
       "    <tr>\n",
       "      <th>11460</th>\n",
       "      <td>NaN</td>\n",
       "      <td>950</td>\n",
       "      <td>Major Arterial</td>\n",
       "      <td>North York</td>\n",
       "      <td>43.755992</td>\n",
       "      <td>-79.314578</td>\n",
       "      <td>Intersection Related</td>\n",
       "      <td>No Control</td>\n",
       "      <td>Clear</td>\n",
       "      <td>Daylight</td>\n",
       "      <td>...</td>\n",
       "      <td>No</td>\n",
       "      <td>No</td>\n",
       "      <td>119</td>\n",
       "      <td>119</td>\n",
       "      <td>Friday</td>\n",
       "      <td>3</td>\n",
       "      <td>4</td>\n",
       "      <td>2015</td>\n",
       "      <td>9</td>\n",
       "      <td>-3551353901921576048</td>\n",
       "    </tr>\n",
       "    <tr>\n",
       "      <th>11504</th>\n",
       "      <td>NaN</td>\n",
       "      <td>1402</td>\n",
       "      <td>Local</td>\n",
       "      <td>Scarborough</td>\n",
       "      <td>43.794242</td>\n",
       "      <td>-79.303012</td>\n",
       "      <td>Private Driveway</td>\n",
       "      <td>Stop Sign</td>\n",
       "      <td>Clear</td>\n",
       "      <td>Daylight</td>\n",
       "      <td>...</td>\n",
       "      <td>No</td>\n",
       "      <td>No</td>\n",
       "      <td>148</td>\n",
       "      <td>117</td>\n",
       "      <td>Wednesday</td>\n",
       "      <td>22</td>\n",
       "      <td>4</td>\n",
       "      <td>2015</td>\n",
       "      <td>14</td>\n",
       "      <td>-2532182689346672961</td>\n",
       "    </tr>\n",
       "    <tr>\n",
       "      <th>...</th>\n",
       "      <td>...</td>\n",
       "      <td>...</td>\n",
       "      <td>...</td>\n",
       "      <td>...</td>\n",
       "      <td>...</td>\n",
       "      <td>...</td>\n",
       "      <td>...</td>\n",
       "      <td>...</td>\n",
       "      <td>...</td>\n",
       "      <td>...</td>\n",
       "      <td>...</td>\n",
       "      <td>...</td>\n",
       "      <td>...</td>\n",
       "      <td>...</td>\n",
       "      <td>...</td>\n",
       "      <td>...</td>\n",
       "      <td>...</td>\n",
       "      <td>...</td>\n",
       "      <td>...</td>\n",
       "      <td>...</td>\n",
       "      <td>...</td>\n",
       "    </tr>\n",
       "    <tr>\n",
       "      <th>16055</th>\n",
       "      <td>NaN</td>\n",
       "      <td>1145</td>\n",
       "      <td>Major Arterial</td>\n",
       "      <td>Scarborough</td>\n",
       "      <td>43.721461</td>\n",
       "      <td>-79.284953</td>\n",
       "      <td>At Intersection</td>\n",
       "      <td>Traffic Signal</td>\n",
       "      <td>Clear</td>\n",
       "      <td>Daylight</td>\n",
       "      <td>...</td>\n",
       "      <td>No</td>\n",
       "      <td>Yes</td>\n",
       "      <td>120</td>\n",
       "      <td>120</td>\n",
       "      <td>Saturday</td>\n",
       "      <td>26</td>\n",
       "      <td>10</td>\n",
       "      <td>2019</td>\n",
       "      <td>11</td>\n",
       "      <td>-3375787301302444876</td>\n",
       "    </tr>\n",
       "    <tr>\n",
       "      <th>16098</th>\n",
       "      <td>NaN</td>\n",
       "      <td>1445</td>\n",
       "      <td>Minor Arterial</td>\n",
       "      <td>Etobicoke York</td>\n",
       "      <td>43.681376</td>\n",
       "      <td>-79.467296</td>\n",
       "      <td>At/Near Private Drive</td>\n",
       "      <td>No Control</td>\n",
       "      <td>Clear</td>\n",
       "      <td>Daylight</td>\n",
       "      <td>...</td>\n",
       "      <td>No</td>\n",
       "      <td>No</td>\n",
       "      <td>110</td>\n",
       "      <td>110</td>\n",
       "      <td>Sunday</td>\n",
       "      <td>10</td>\n",
       "      <td>11</td>\n",
       "      <td>2019</td>\n",
       "      <td>14</td>\n",
       "      <td>7824284053311089188</td>\n",
       "    </tr>\n",
       "    <tr>\n",
       "      <th>16134</th>\n",
       "      <td>NaN</td>\n",
       "      <td>1210</td>\n",
       "      <td>Major Arterial</td>\n",
       "      <td>North York</td>\n",
       "      <td>43.727584</td>\n",
       "      <td>-79.340823</td>\n",
       "      <td>At Intersection</td>\n",
       "      <td>Traffic Signal</td>\n",
       "      <td>Clear</td>\n",
       "      <td>Daylight</td>\n",
       "      <td>...</td>\n",
       "      <td>No</td>\n",
       "      <td>No</td>\n",
       "      <td>42</td>\n",
       "      <td>42</td>\n",
       "      <td>Monday</td>\n",
       "      <td>25</td>\n",
       "      <td>11</td>\n",
       "      <td>2019</td>\n",
       "      <td>12</td>\n",
       "      <td>6703629104079587141</td>\n",
       "    </tr>\n",
       "    <tr>\n",
       "      <th>16203</th>\n",
       "      <td>NaN</td>\n",
       "      <td>1834</td>\n",
       "      <td>Major Arterial</td>\n",
       "      <td>Scarborough</td>\n",
       "      <td>43.782126</td>\n",
       "      <td>-79.232982</td>\n",
       "      <td>Non Intersection</td>\n",
       "      <td>No Control</td>\n",
       "      <td>Clear</td>\n",
       "      <td>Dark, artificial</td>\n",
       "      <td>...</td>\n",
       "      <td>Yes</td>\n",
       "      <td>No</td>\n",
       "      <td>142</td>\n",
       "      <td>137</td>\n",
       "      <td>Sunday</td>\n",
       "      <td>22</td>\n",
       "      <td>12</td>\n",
       "      <td>2019</td>\n",
       "      <td>18</td>\n",
       "      <td>7753657922975080916</td>\n",
       "    </tr>\n",
       "    <tr>\n",
       "      <th>16219</th>\n",
       "      <td>NaN</td>\n",
       "      <td>2118</td>\n",
       "      <td>Major Arterial</td>\n",
       "      <td>Toronto and East York</td>\n",
       "      <td>43.645556</td>\n",
       "      <td>-79.369808</td>\n",
       "      <td>At Intersection</td>\n",
       "      <td>Traffic Signal</td>\n",
       "      <td>Clear</td>\n",
       "      <td>Dark, artificial</td>\n",
       "      <td>...</td>\n",
       "      <td>No</td>\n",
       "      <td>No</td>\n",
       "      <td>166</td>\n",
       "      <td>77</td>\n",
       "      <td>Wednesday</td>\n",
       "      <td>25</td>\n",
       "      <td>12</td>\n",
       "      <td>2019</td>\n",
       "      <td>21</td>\n",
       "      <td>6231943724305515641</td>\n",
       "    </tr>\n",
       "  </tbody>\n",
       "</table>\n",
       "<p>101 rows × 41 columns</p>\n",
       "</div>"
      ]
     },
     "execution_count": 1916,
     "metadata": {},
     "output_type": "execute_result"
    }
   ],
   "execution_count": 1916
  },
  {
   "metadata": {
    "ExecuteTime": {
     "end_time": "2025-03-20T11:41:35.374101Z",
     "start_time": "2025-03-20T11:41:35.364210Z"
    }
   },
   "cell_type": "code",
   "source": [
    "print(f\"\\nShape before dropping duplicates: {df1.shape}\")\n",
    "df1 = df1[~duplicate_mask]  # Keep only non-duplicate rows.\n",
    "# ACCNUM has effectively become a unique ID column, so it's no longer useful and will be dropped.\n",
    "df1 = df1.drop(columns=['hash', 'ACCNUM'])\n",
    "print(f\"Shape after dropping duplicates:  {df1.shape}\")"
   ],
   "id": "c07dd626e09bfc99",
   "outputs": [
    {
     "name": "stdout",
     "output_type": "stream",
     "text": [
      "\n",
      "Shape before dropping duplicates: (9575, 41)\n",
      "Shape after dropping duplicates:  (9474, 39)\n"
     ]
    }
   ],
   "execution_count": 1917
  },
  {
   "metadata": {
    "ExecuteTime": {
     "end_time": "2025-03-20T11:41:35.393362Z",
     "start_time": "2025-03-20T11:41:35.376107Z"
    }
   },
   "cell_type": "code",
   "source": "print(df1.isnull().sum()[df1.isnull().sum() > 0])",
   "id": "1808f8779243615",
   "outputs": [
    {
     "name": "stdout",
     "output_type": "stream",
     "text": [
      "ACCLOC       1779\n",
      "INJURY       5099\n",
      "VEHTYPE      1986\n",
      "MANOEUVER    3281\n",
      "DRIVACT      3747\n",
      "DRIVCOND     3746\n",
      "dtype: int64\n"
     ]
    }
   ],
   "execution_count": 1918
  },
  {
   "metadata": {},
   "cell_type": "markdown",
   "source": [
    "## Statistics\n",
    "I decided to do stats after pre-processing so that I can account for the added columns and corrected rows.\n"
   ],
   "id": "afe3b3996fa61764"
  },
  {
   "metadata": {
    "ExecuteTime": {
     "end_time": "2025-03-20T11:41:35.443053Z",
     "start_time": "2025-03-20T11:41:35.395368Z"
    }
   },
   "cell_type": "code",
   "source": [
    "# Describe the numerical & object type columns.\n",
    "print(df1.describe())\n",
    "print(f\"\\nObject descriptions: \\n{df1.describe(include=['object'])}\\n\")"
   ],
   "id": "fcf4b14104bfd8d9",
   "outputs": [
    {
     "name": "stdout",
     "output_type": "stream",
     "text": [
      "              TIME     LATITUDE    LONGITUDE          DAY        MONTH  \\\n",
      "count  9474.000000  9474.000000  9474.000000  9474.000000  9474.000000   \n",
      "mean   1369.970234    43.711529   -79.395054    15.724615     6.897720   \n",
      "std     627.678535     0.056415     0.104514     8.852084     3.264346   \n",
      "min       0.000000    43.589678   -79.638390     1.000000     1.000000   \n",
      "25%     925.000000    43.662398   -79.469875     8.000000     4.000000   \n",
      "50%    1500.000000    43.704752   -79.396508    16.000000     7.000000   \n",
      "75%    1854.000000    43.758047   -79.316283    23.000000    10.000000   \n",
      "max    2359.000000    43.855445   -79.122974    31.000000    12.000000   \n",
      "\n",
      "              YEAR         HOUR  \n",
      "count  9474.000000  9474.000000  \n",
      "mean   2014.677327    13.423158  \n",
      "std       4.531842     6.284760  \n",
      "min    2006.000000     0.000000  \n",
      "25%    2011.000000     9.000000  \n",
      "50%    2016.000000    15.000000  \n",
      "75%    2018.000000    18.000000  \n",
      "max    2023.000000    23.000000  \n",
      "\n",
      "Object descriptions: \n",
      "            ROAD_CLASS               DISTRICT           ACCLOC    TRAFFCTL  \\\n",
      "count             9474                   9474             7695        9474   \n",
      "unique              11                      4               10          10   \n",
      "top     Major Arterial  Toronto and East York  At Intersection  No Control   \n",
      "freq              6790                   3086             4595        4527   \n",
      "\n",
      "       VISIBILITY     LIGHT RDSFCOND    ACCLASS              IMPACTYPE  \\\n",
      "count        9474      9474     9474       9474                   9474   \n",
      "unique          8         9        9          2                     10   \n",
      "top         Clear  Daylight      Dry  Non-Fatal  Pedestrian Collisions   \n",
      "freq         8207      5364     7652       8145                   4158   \n",
      "\n",
      "       INVTYPE  ... EMERG_VEH PASSENGER SPEEDING AG_DRIV REDLIGHT ALCOHOL  \\\n",
      "count     9474  ...      9474      9474     9474    9474     9474    9474   \n",
      "unique      15  ...         2         2        2       2        2       2   \n",
      "top     Driver  ...        No        No       No     Yes       No      No   \n",
      "freq      5065  ...      9447      6353     8204    4793     8795    9132   \n",
      "\n",
      "       DISABILITY HOOD_158 HOOD_140 DAY_OF_WEEK  \n",
      "count        9474     9474     9474        9474  \n",
      "unique          2      159      141           7  \n",
      "top            No        1       77      Friday  \n",
      "freq         9227      281      340        1528  \n",
      "\n",
      "[4 rows x 32 columns]\n",
      "\n"
     ]
    }
   ],
   "execution_count": 1919
  },
  {
   "metadata": {
    "ExecuteTime": {
     "end_time": "2025-03-20T11:41:35.449738Z",
     "start_time": "2025-03-20T11:41:35.445068Z"
    }
   },
   "cell_type": "code",
   "source": [
    "# Get ranges for numeric columns.\n",
    "print(f\"Numerical ranges:\")\n",
    "for col in df1.columns:\n",
    "    if df1[col].dtype not in ['object']:\n",
    "        print(f\"{col}: {df1[col].min()} to {df1[col].max()}\")"
   ],
   "id": "8ebb03371a5bd09",
   "outputs": [
    {
     "name": "stdout",
     "output_type": "stream",
     "text": [
      "Numerical ranges:\n",
      "TIME: 0 to 2359\n",
      "LATITUDE: 43.589678 to 43.855445\n",
      "LONGITUDE: -79.63839 to -79.122974\n",
      "DAY: 1 to 31\n",
      "MONTH: 1 to 12\n",
      "YEAR: 2006 to 2023\n",
      "HOUR: 0 to 23\n"
     ]
    }
   ],
   "execution_count": 1920
  },
  {
   "metadata": {
    "ExecuteTime": {
     "end_time": "2025-03-20T11:41:35.473955Z",
     "start_time": "2025-03-20T11:41:35.450744Z"
    }
   },
   "cell_type": "code",
   "source": [
    "# Calculate mean, median, and mode.\n",
    "print(f\"\\nMean: \\n{df1.mean(numeric_only=True)}\\n\")\n",
    "print(f\"Median: \\n{df1.median(numeric_only=True)}\\n\")\n",
    "print(f\"Mode: \\n{df1.mode().iloc[0]}\")"
   ],
   "id": "2e0f3002a3f80071",
   "outputs": [
    {
     "name": "stdout",
     "output_type": "stream",
     "text": [
      "\n",
      "Mean: \n",
      "TIME         1369.970234\n",
      "LATITUDE       43.711529\n",
      "LONGITUDE     -79.395054\n",
      "DAY            15.724615\n",
      "MONTH           6.897720\n",
      "YEAR         2014.677327\n",
      "HOUR           13.423158\n",
      "dtype: float64\n",
      "\n",
      "Median: \n",
      "TIME         1500.000000\n",
      "LATITUDE       43.704752\n",
      "LONGITUDE     -79.396508\n",
      "DAY            16.000000\n",
      "MONTH           7.000000\n",
      "YEAR         2016.000000\n",
      "HOUR           15.000000\n",
      "dtype: float64\n",
      "\n",
      "Mode: \n",
      "TIME                                1700.0\n",
      "ROAD_CLASS                  Major Arterial\n",
      "DISTRICT             Toronto and East York\n",
      "LATITUDE                         43.645556\n",
      "LONGITUDE                       -79.385814\n",
      "ACCLOC                     At Intersection\n",
      "TRAFFCTL                        No Control\n",
      "VISIBILITY                           Clear\n",
      "LIGHT                             Daylight\n",
      "RDSFCOND                               Dry\n",
      "ACCLASS                          Non-Fatal\n",
      "IMPACTYPE            Pedestrian Collisions\n",
      "INVTYPE                             Driver\n",
      "INVAGE                             unknown\n",
      "INJURY                               Major\n",
      "VEHTYPE          Automobile, Station Wagon\n",
      "MANOEUVER                      Going Ahead\n",
      "DRIVACT                   Driving Properly\n",
      "DRIVCOND                            Normal\n",
      "PEDESTRIAN                              No\n",
      "CYCLIST                                 No\n",
      "AUTOMOBILE                             Yes\n",
      "MOTORCYCLE                              No\n",
      "TRUCK                                   No\n",
      "TRSN_CITY_VEH                           No\n",
      "EMERG_VEH                               No\n",
      "PASSENGER                               No\n",
      "SPEEDING                                No\n",
      "AG_DRIV                                Yes\n",
      "REDLIGHT                                No\n",
      "ALCOHOL                                 No\n",
      "DISABILITY                              No\n",
      "HOOD_158                                 1\n",
      "HOOD_140                                77\n",
      "DAY_OF_WEEK                         Friday\n",
      "DAY                                   20.0\n",
      "MONTH                                  8.0\n",
      "YEAR                                2018.0\n",
      "HOUR                                  17.0\n",
      "Name: 0, dtype: object\n"
     ]
    }
   ],
   "execution_count": 1921
  },
  {
   "metadata": {},
   "cell_type": "markdown",
   "source": "## Plots",
   "id": "172cefd654430259"
  },
  {
   "metadata": {
    "ExecuteTime": {
     "end_time": "2025-03-20T11:41:35.479956Z",
     "start_time": "2025-03-20T11:41:35.476960Z"
    }
   },
   "cell_type": "code",
   "source": [
    "import matplotlib.pyplot as plt\n",
    "import seaborn as sns\n",
    "from scipy.stats import gaussian_kde"
   ],
   "id": "e3a0ab999f27d398",
   "outputs": [],
   "execution_count": 1922
  },
  {
   "metadata": {},
   "cell_type": "markdown",
   "source": "### Macro methods",
   "id": "96b18f841033bd40"
  },
  {
   "metadata": {
    "ExecuteTime": {
     "end_time": "2025-03-20T11:41:35.486612Z",
     "start_time": "2025-03-20T11:41:35.482467Z"
    }
   },
   "cell_type": "code",
   "source": [
    "def stacked_hist(df, column, title, xlabel, ylabel):\n",
    "    \"\"\"\n",
    "    df (pd.DataFrame): The DataFrame containing the data.\n",
    "    column (str): The column to plot against ACCLASS.\n",
    "    title (str): The title of the plot.\n",
    "    xlabel (str): The label for the x-axis.\n",
    "    ylabel (str): The label for the y-axis.\n",
    "    colors (list): Colors for the stacked bars.\n",
    "    legend_labels (list): Labels for the legend.\n",
    "    \"\"\"\n",
    "    if column == 'DAY_OF_WEEK':  # If the column is 'DAY_OF_WEEK', reorder the days of the week.\n",
    "        days_order = ['Sunday', 'Monday', 'Tuesday', 'Wednesday', 'Thursday', 'Friday', 'Saturday']\n",
    "        df[column] = pd.Categorical(df[column], categories=days_order, ordered=True)\n",
    "        df = df.sort_values(column)\n",
    "\n",
    "    crosstab = pd.crosstab(df[column], df['ACCLASS'])\n",
    "    ax = crosstab.plot(kind='bar', stacked=True, figsize=(12, 4))\n",
    "\n",
    "    for p in ax.patches:\n",
    "        width, height = p.get_width(), p.get_height()\n",
    "        x, y = p.get_xy()\n",
    "        ax.annotate(f'{int(height)}',\n",
    "                    (x + width / 2, y + height),\n",
    "                    ha='center', va='bottom',\n",
    "                    fontsize=10, color='black', fontweight='bold')\n",
    "\n",
    "    ax.set_title(title, fontsize=16)\n",
    "    ax.set_xlabel(xlabel, fontsize=14)\n",
    "    ax.set_ylabel(ylabel, fontsize=14)\n",
    "    ax.legend(title='Accident Type', labels=['Fatal', 'Non-Fatal'])\n",
    "    ax.set_xticklabels(ax.get_xticklabels(), rotation=0)\n",
    "    plt.tight_layout()\n",
    "    plt.show()"
   ],
   "id": "31d13958b4fb1861",
   "outputs": [],
   "execution_count": 1923
  },
  {
   "metadata": {
    "ExecuteTime": {
     "end_time": "2025-03-20T11:41:35.492132Z",
     "start_time": "2025-03-20T11:41:35.488618Z"
    }
   },
   "cell_type": "code",
   "source": [
    "def horizontal_bar_graph(df, column, title, xlabel, ylabel, figsize=(12, 8)):\n",
    "    \"\"\"\n",
    "    df (pd.DataFrame): The DataFrame containing the data.\n",
    "    column (str): The column to plot value counts for.\n",
    "    title (str): The title of the plot.\n",
    "    xlabel (str): The label for the x-axis.\n",
    "    ylabel (str): The label for the y-axis.\n",
    "    figsize (tuple): The size of the figure (width, height).\n",
    "    \"\"\"\n",
    "    value_counts = df[column].value_counts()\n",
    "    plt.figure(figsize=figsize)\n",
    "    ax = sns.barplot(x=value_counts.values, y=value_counts.index)\n",
    "    for i, value in enumerate(value_counts.values):\n",
    "        ax.text(value + 5, i, str(value), va='center', fontweight='bold')\n",
    "\n",
    "    plt.title(title, fontsize=16)\n",
    "    plt.xlabel(xlabel, fontsize=14)\n",
    "    plt.ylabel(ylabel, fontsize=14)\n",
    "    plt.tight_layout()\n",
    "    plt.show()"
   ],
   "id": "f349e2b25d382a55",
   "outputs": [],
   "execution_count": 1924
  },
  {
   "metadata": {
    "ExecuteTime": {
     "end_time": "2025-03-20T11:41:35.500480Z",
     "start_time": "2025-03-20T11:41:35.494160Z"
    }
   },
   "cell_type": "code",
   "source": [
    "def map_accidents(df, accident_col='ACCLASS', lon_col='LONGITUDE', lat_col='LATITUDE', grid_resolution=100, density_threshold=0.5, figsize=(18, 13)):\n",
    "    \"\"\"\n",
    "    Generates two plots:\n",
    "    1. A scatter plot of accidents with a density-driven circle.\n",
    "    2. A heatmap of accident density.\n",
    "\n",
    "    df (pd.DataFrame): The dataframe containing accident data.\n",
    "    accident_col (str): The column name for accident type (e.g., 'ACCLASS').\n",
    "    lon_col (str): The column name for longitude (e.g., 'LONGITUDE').\n",
    "    lat_col (str): The column name for latitude (e.g., 'LATITUDE').\n",
    "    grid_resolution (int): Resolution for the heatmap grid (higher = smoother).\n",
    "    density_threshold (float): Density threshold for the circle (e.g., 0.5 for 50%).\n",
    "    \"\"\"\n",
    "    # Plot 1: Scatter plot of all accidents with high-density circle\n",
    "    plt.figure(figsize=figsize)\n",
    "    non_fatal = df[df[accident_col] == 'Non-Fatal']\n",
    "    fatal = df[df[accident_col] == 'Fatal']\n",
    "\n",
    "    plt.scatter(non_fatal[lon_col], non_fatal[lat_col], alpha=0.5, color='blue', s=5, label='Non-Fatal')\n",
    "    plt.scatter(fatal[lon_col], fatal[lat_col], alpha=0.5, color='red', s=5, label='Fatal')\n",
    "    coordinates = np.vstack([df[lon_col], df[lat_col]])\n",
    "    kde = gaussian_kde(coordinates)\n",
    "    density = kde(coordinates)\n",
    "    max_density_idx = np.argmax(density)\n",
    "    max_density_longitude = df[lon_col].iloc[max_density_idx]\n",
    "    max_density_latitude = df[lat_col].iloc[max_density_idx]\n",
    "    threshold_density = np.max(density) * density_threshold\n",
    "    distances = np.sqrt((df[lon_col] - max_density_longitude)**2 + (df[lat_col] - max_density_latitude)**2)\n",
    "    radius = np.min(distances[density < threshold_density])\n",
    "\n",
    "    circle = plt.Circle((max_density_longitude, max_density_latitude), radius=radius, color='yellow', fill=False, linestyle='-', linewidth=2, label=f'Top {density_threshold*100:.0f}% Density')\n",
    "    plt.gca().add_patch(circle)\n",
    "    # print(f\"Hotspot center: ({max_density_latitude}, {max_density_longitude})\")\n",
    "\n",
    "    plt.title('Location of Accidents with Density-Driven Circle', fontsize=16)\n",
    "    plt.xlabel('Longitude', fontsize=14)\n",
    "    plt.ylabel('Latitude', fontsize=14)\n",
    "    plt.grid(True, linestyle='--', alpha=0.2, color='black')\n",
    "    plt.legend(title='Legend', fontsize=12)\n",
    "    plt.tight_layout()\n",
    "    plt.show()\n",
    "\n",
    "    # Plot 2: Accident density heatmap.\n",
    "    plt.figure(figsize=figsize)\n",
    "    grid_x, grid_y = np.mgrid[\n",
    "        df[lon_col].min():df[lon_col].max():grid_resolution * 1j,\n",
    "        df[lat_col].min():df[lat_col].max():grid_resolution * 1j\n",
    "    ]\n",
    "    grid_coords = np.vstack([grid_x.ravel(), grid_y.ravel()])\n",
    "    grid_z = kde(grid_coords).reshape(grid_x.shape)\n",
    "\n",
    "    plt.pcolormesh(grid_x, grid_y, grid_z, shading='auto', cmap='viridis')\n",
    "    plt.scatter(df[lon_col], df[lat_col], color='white', alpha=0.25, s=5, label='Accidents')\n",
    "    plt.title('Accident Density Heatmap', fontsize=16)\n",
    "    plt.xlabel('Longitude', fontsize=14)\n",
    "    plt.ylabel('Latitude', fontsize=14)\n",
    "    plt.grid(True, linestyle='--', alpha=1, color='white')\n",
    "    plt.legend(title='Legend', fontsize=12)\n",
    "    plt.tight_layout()\n",
    "    plt.show()"
   ],
   "id": "de438714338a2190",
   "outputs": [],
   "execution_count": 1925
  },
  {
   "metadata": {},
   "cell_type": "markdown",
   "source": "### Plots 1, 2: Distribution of accident types and severity.",
   "id": "4ccf73c24129ecf7"
  },
  {
   "metadata": {
    "ExecuteTime": {
     "end_time": "2025-03-20T11:41:35.505410Z",
     "start_time": "2025-03-20T11:41:35.502488Z"
    }
   },
   "cell_type": "code",
   "source": [
    "# horizontal_bar_graph(df1, 'ACCLASS', 'Distribution of Accidents (ACCLASS)', 'Number of Accidents', 'ACCLASS', figsize=(12, 2))\n",
    "# horizontal_bar_graph(df1, 'INJURY', 'Accidents by Injury Severity (INJURY)', 'Number of Accidents', 'INJURY', figsize=(12, 2))"
   ],
   "id": "46af315be6729dae",
   "outputs": [],
   "execution_count": 1926
  },
  {
   "metadata": {},
   "cell_type": "markdown",
   "source": "### Plot 3, 4, 5, 6: Accident count across time",
   "id": "450146efbaa4073"
  },
  {
   "metadata": {
    "ExecuteTime": {
     "end_time": "2025-03-20T11:41:35.509435Z",
     "start_time": "2025-03-20T11:41:35.507416Z"
    }
   },
   "cell_type": "code",
   "source": [
    "# stacked_hist(df1, 'YEAR', 'Accidents by Year', 'Year', 'Count')\n",
    "# stacked_hist(df1, 'MONTH', 'Accidents by Month', 'Month', 'Count')\n",
    "# stacked_hist(df1, 'DAY_OF_WEEK', 'Accidents by Day of the Week', 'Day of the Week', 'Count')\n",
    "# stacked_hist(df1, 'HOUR', 'Accidents by Time of Day', 'Hour (24h)', 'Count')"
   ],
   "id": "47c4b751d87b3f1a",
   "outputs": [],
   "execution_count": 1927
  },
  {
   "metadata": {},
   "cell_type": "markdown",
   "source": "### Plot 7, 8, 9, 10: Accidents by vehicle type, location, and road & light conditions.",
   "id": "920a34e687e93039"
  },
  {
   "metadata": {
    "ExecuteTime": {
     "end_time": "2025-03-20T11:41:35.513567Z",
     "start_time": "2025-03-20T11:41:35.511439Z"
    }
   },
   "cell_type": "code",
   "source": [
    "# horizontal_bar_graph(df1, 'VEHTYPE', 'Accidents by Vehicle Type (VEHTYPE)', 'Number of Accidents', 'VEHTYPE')\n",
    "# horizontal_bar_graph(df1, 'ACCLOC', 'Accidents by Location (ACCLOC)', 'Number of Accidents', 'ACCLOC', figsize=(12, 4))\n",
    "# horizontal_bar_graph(df1, 'RDSFCOND', 'Accidents by Road Surface Condition (RDSFCOND)', 'Number of Accidents', 'RDSFCOND', figsize=(12, 4))\n",
    "# horizontal_bar_graph(df1, 'LIGHT', 'Accidents by Light Condition (LIGHT)', 'Number of Accidents', 'LIGHT', figsize=(12, 4))"
   ],
   "id": "1e56c3660d70219c",
   "outputs": [],
   "execution_count": 1928
  },
  {
   "metadata": {},
   "cell_type": "markdown",
   "source": "### Plots 11-14: Involved population",
   "id": "8bc2e7cc9098839c"
  },
  {
   "metadata": {
    "ExecuteTime": {
     "end_time": "2025-03-20T11:41:35.914925Z",
     "start_time": "2025-03-20T11:41:35.515572Z"
    }
   },
   "cell_type": "code",
   "source": [
    "def extract_numeric(age_label):\n",
    "    if age_label == 'unknown':\n",
    "        return -1  # Place 'unknown' first.\n",
    "    elif age_label == 'Over 95':\n",
    "        return 95  # Place 'Over 95' last.\n",
    "    else:\n",
    "        return int(age_label.split(\" \")[0])\n",
    "sorted_labels = sorted(df1['INVAGE'].unique(), key=extract_numeric)\n",
    "plt.figure(figsize=(18, 5))\n",
    "ax = sns.countplot(data=df1, x='INVAGE', order=sorted_labels, hue='ACCLASS')\n",
    "for p in ax.patches:\n",
    "    height = p.get_height()\n",
    "    if height != 0:  # Added this to remove the random '0' in the first bar.\n",
    "        ax.annotate(f'{int(height)}',\n",
    "                    (p.get_x() + p.get_width() / 2., height),\n",
    "                    ha='center', va='bottom', fontsize=12, color='black', fontweight='bold')\n",
    "\n",
    "plt.title(\"Distribution of ages involved in accidents (INVAGE)\", fontsize=16)\n",
    "plt.xlabel(\"Age Group\", fontsize=14)\n",
    "plt.ylabel(\"Count\", fontsize=14)\n",
    "# plt.show()\n",
    "\n",
    "# ==================================================================================================================\n",
    "# horizontal_bar_graph(df1, 'DISTRICT', 'Accidents by Municipal Region (DISTRICT)', 'Number of Accidents', 'DISTRICT', figsize=(14, 2))"
   ],
   "id": "b40823c3b6638366",
   "outputs": [
    {
     "data": {
      "text/plain": [
       "Text(0, 0.5, 'Count')"
      ]
     },
     "execution_count": 1929,
     "metadata": {},
     "output_type": "execute_result"
    },
    {
     "data": {
      "text/plain": [
       "<Figure size 1800x500 with 1 Axes>"
      ],
      "image/png": "[encoded data removed]"
     },
     "metadata": {},
     "output_type": "display_data"
    }
   ],
   "execution_count": 1929
  },
  {
   "metadata": {
    "ExecuteTime": {
     "end_time": "2025-03-20T11:41:35.920436Z",
     "start_time": "2025-03-20T11:41:35.916934Z"
    }
   },
   "cell_type": "code",
   "source": "# map_accidents(df1, accident_col='ACCLASS', lon_col='LONGITUDE', lat_col='LATITUDE', grid_resolution=250, density_threshold=0.5, figsize=(18, 13))",
   "id": "d6ad238400c823a4",
   "outputs": [],
   "execution_count": 1930
  },
  {
   "metadata": {},
   "cell_type": "markdown",
   "source": [
    "### Features Correlation\n",
    "This section will not be present in the .py file, as this is primarily for testing."
   ],
   "id": "eb7bd50f10cc358"
  },
  {
   "metadata": {
    "ExecuteTime": {
     "end_time": "2025-03-20T11:41:35.924891Z",
     "start_time": "2025-03-20T11:41:35.922442Z"
    }
   },
   "cell_type": "code",
   "source": [
    "# Macro for heatmap\n",
    "# def corr_heatmap(df, title, numeric=False, figsize=(10, 8)):\n",
    "#     \"\"\"\n",
    "#     df (pd.DataFrame): The DataFrame containing the data.\n",
    "#     title (str): The title of the heatmap.\n",
    "#     numeric (bool): Whether to filter for numeric or not.\n",
    "#     figsize (tuple): The size of the figure (width, height). Default is (20, 16).\n",
    "#     \"\"\"\n",
    "#     if numeric:\n",
    "#         df = df.select_dtypes(include=['number'])\n",
    "#\n",
    "#     corr = df.corr()\n",
    "#     plt.figure(figsize=figsize)\n",
    "#     sns.heatmap(corr, annot=True, fmt='.2f', cmap='coolwarm', vmin=-1, vmax=1)\n",
    "#     plt.title(title, fontsize=16)\n",
    "#     plt.show()"
   ],
   "id": "81b6fd0057934f38",
   "outputs": [],
   "execution_count": 1931
  },
  {
   "metadata": {
    "ExecuteTime": {
     "end_time": "2025-03-20T11:41:35.929002Z",
     "start_time": "2025-03-20T11:41:35.926898Z"
    }
   },
   "cell_type": "code",
   "source": [
    "# corr_heatmap(df0, 'Features Correlation (original dataset)', True)\n",
    "# corr_heatmap(df1, 'Features Correlation (modified dataset)', True)"
   ],
   "id": "941f79d9644135e5",
   "outputs": [],
   "execution_count": 1932
  },
  {
   "metadata": {
    "ExecuteTime": {
     "end_time": "2025-03-20T11:41:35.933042Z",
     "start_time": "2025-03-20T11:41:35.931007Z"
    }
   },
   "cell_type": "code",
   "source": [
    "# from sklearn.preprocessing import LabelEncoder\n",
    "# label_encoder = LabelEncoder()\n",
    "# for col in df1.columns:\n",
    "#     df1[col] = label_encoder.fit_transform(df1[col]) # Encode categorical columns.\n",
    "\n",
    "# corr_heatmap(df1, 'Features Correlation', figsize= (20, 16))"
   ],
   "id": "958e5d2219e0262e",
   "outputs": [],
   "execution_count": 1933
  },
  {
   "metadata": {
    "ExecuteTime": {
     "end_time": "2025-03-20T11:41:35.937490Z",
     "start_time": "2025-03-20T11:41:35.935050Z"
    }
   },
   "cell_type": "code",
   "source": [
    "# from scipy.stats import chi2_contingency\n",
    "#\n",
    "# target = 'ACCLASS'\n",
    "# features = df1.columns.drop(target)\n",
    "# results = []\n",
    "# for feature in features:\n",
    "#     contingency_table = pd.crosstab(df1[feature], df1[target])\n",
    "#     chi2, p, dof, expected = chi2_contingency(contingency_table)\n",
    "#     results.append({\n",
    "#         'Feature': feature,\n",
    "#         'Chi-Square Statistic': chi2,\n",
    "#         'P-Value': p,\n",
    "#         'Degrees of Freedom': dof\n",
    "#     })\n",
    "#\n",
    "# results_df = pd.DataFrame(results)\n",
    "# # print(results_df)\n",
    "# plt.figure(figsize=(10, 6))\n",
    "# sns.barplot(x='Chi-Square Statistic', y='Feature', data=results_df, palette='viridis')\n",
    "# plt.title('Chi-Square Statistics for Categorical Features vs ACCLASS', fontsize=16)\n",
    "# plt.xlabel('Chi-Square Statistic', fontsize=12)\n",
    "# plt.ylabel('Feature', fontsize=12)\n",
    "# plt.show()\n",
    "#\n",
    "# plt.figure(figsize=(10, 6))\n",
    "# sns.barplot(x='P-Value', y='Feature', data=results_df, palette='viridis')\n",
    "# plt.title('P-Values for Categorical Features vs ACCLASS', fontsize=16)\n",
    "# plt.xlabel('P-Value', fontsize=12)\n",
    "# plt.ylabel('Feature', fontsize=12)\n",
    "# plt.axvline(x=0.05, color='red', linestyle='--', label='Significance Threshold (p=0.05)')\n",
    "# plt.legend()\n",
    "# plt.show()"
   ],
   "id": "6e57d1cf73152c4",
   "outputs": [],
   "execution_count": 1934
  },
  {
   "metadata": {},
   "cell_type": "markdown",
   "source": [
    "### Insights:\n",
    "- Dataset presents a heavy bias on 'non-fatal' accidents. That's good in the safety sense, but not as good for statistical analysis as there is fewer data points on fatal accidents.\n",
    "- Total accidents on a yearly basis are declining, that's good news, and fatalities tend to be on a very slow decline but is less predictable.\n",
    "- Most accidents happen during the summer when people are on school break (JUN-AUG) and possibly temporarily high population from tourism.\n",
    "- Fridays are the most prevalent in total and non-fatal accidents; it's the weekend and people tend to go crazy.\n",
    "- Station wagons and 'other' vehicles account for more than half all the accidents.\n",
    "- Dry weather allows for faster (aggressive) driving, thus leads in accidents by road surface condition. While wet conditions inhibits braking power and sometimes vehicles can experience hydroplaning.\n",
    "- Ages 20-54 are the most involved in these accidents, while the age group 20-24 have the highest among all accounts. This is when many new drivers in Ontario receive their full G license, and are just starting to drive on their own with less supervision and driving restrictions. Number of accidents decrease as age increases, this is likely due to the elderly staying at home more and also driving less.\n",
    "- Most accidents happen during daylight, just a bit more than in dark lighting conditions, probably due to pedestrian higher activity during the day and many people would already be home after their 9am-5pm jobs.\n",
    "- In terms of density, downtown Toronto seems to have the highest concentration of accidents. This is anticipated as it is the densest by residential and general pedestrian population out of all the other regions. Also, the downtown area has never been very compatible with cars (old roads dedicated to trams, pedestrian walking and cycling). It has become plagued with heavy congestion from personal vehicles and endless construction. Because of these, more pedestrians, cyclists and drivers are active at any time and much closer to each other, which could increase the chances of accidents.\n",
    "- While these plots don't necessarily help with selecting features to build the classifier model, they can provide context for the human when interpreting testing results."
   ],
   "id": "98aabfede76d5872"
  },
  {
   "metadata": {},
   "cell_type": "markdown",
   "source": [
    "# PART 2 - Model Building\n",
    "by: Rafael Carlo Posadas"
   ],
   "id": "4bd061dd083ec3ed"
  },
  {
   "metadata": {
    "ExecuteTime": {
     "end_time": "2025-03-20T11:41:35.942057Z",
     "start_time": "2025-03-20T11:41:35.939496Z"
    }
   },
   "cell_type": "code",
   "source": [
    "from sklearn.preprocessing import LabelEncoder\n",
    "from sklearn.feature_selection import chi2"
   ],
   "id": "79cb05dd83ee3da1",
   "outputs": [],
   "execution_count": 1935
  },
  {
   "metadata": {
    "ExecuteTime": {
     "end_time": "2025-03-20T11:41:35.997180Z",
     "start_time": "2025-03-20T11:41:35.945571Z"
    }
   },
   "cell_type": "code",
   "source": [
    "# Duplicate df1\n",
    "df2 = df1.copy()\n",
    "\n",
    "# Replace the remaining null values with the mode of each column.\n",
    "for col in df2.columns:\n",
    "    df2[col] = df2[col].fillna(df2[col].mode()[0])\n",
    "\n",
    "# Verify that no more columns have nulls; no columns should be displayed.\n",
    "print(df2.isnull().sum()[df2.isnull().sum() > 0])"
   ],
   "id": "a32f52544bef0523",
   "outputs": [
    {
     "name": "stdout",
     "output_type": "stream",
     "text": [
      "Series([], dtype: int64)\n"
     ]
    }
   ],
   "execution_count": 1936
  },
  {
   "metadata": {},
   "cell_type": "markdown",
   "source": "## Feature selection",
   "id": "ab3982e96b8f6b9"
  },
  {
   "metadata": {},
   "cell_type": "markdown",
   "source": "#### Chi-square score",
   "id": "13bcfc1425341287"
  },
  {
   "metadata": {
    "ExecuteTime": {
     "end_time": "2025-03-20T11:42:14.505685Z",
     "start_time": "2025-03-20T11:42:14.495677Z"
    }
   },
   "cell_type": "code",
   "source": [
    "# Separate categorical columns into another df.\n",
    "df2_categorical = df2.select_dtypes(include=['object'])\n",
    "\n",
    "# I'm not sure whether to drop these columns. HOOD_140 has a giant score.\n",
    "df2_categorical = df2_categorical.drop(columns=[\n",
    "    # 'HOOD_140'\n",
    "])"
   ],
   "id": "2541f8f2520c5271",
   "outputs": [],
   "execution_count": 1939
  },
  {
   "metadata": {
    "ExecuteTime": {
     "end_time": "2025-03-20T11:43:00.156107Z",
     "start_time": "2025-03-20T11:42:59.885635Z"
    }
   },
   "cell_type": "code",
   "source": [
    "for col in df2_categorical.columns:\n",
    "    le = LabelEncoder()\n",
    "    df2_categorical[col] = le.fit_transform(df2_categorical[col])\n",
    "\n",
    "X = df2_categorical.drop('ACCLASS', axis=1)\n",
    "y = df2_categorical['ACCLASS']\n",
    "\n",
    "chi_scores = chi2(X, y)\n",
    "\n",
    "chi_values = pd.Series(chi_scores[0], index=X.columns)\n",
    "chi_values.sort_values(ascending=True, inplace=True)\n",
    "chi_values.plot(kind='barh', figsize=(12, 8),\n",
    "                xlabel='Score',\n",
    "                ylabel='Features',\n",
    "                title='Chi Value Scores',)"
   ],
   "id": "631089e3ab86d0",
   "outputs": [
    {
     "data": {
      "text/plain": [
       "<Axes: title={'center': 'Chi Value Scores'}, xlabel='Score', ylabel='Features'>"
      ]
     },
     "execution_count": 1941,
     "metadata": {},
     "output_type": "execute_result"
    },
    {
     "data": {
      "text/plain": [
       "<Figure size 1200x800 with 1 Axes>"
      ],
      "image/png": "[encoded data removed]"
     },
     "metadata": {},
     "output_type": "display_data"
    }
   ],
   "execution_count": 1941
  }
 ],
 "metadata": {
  "kernelspec": {
   "display_name": "Python 3",
   "language": "python",
   "name": "python3"
  },
  "language_info": {
   "codemirror_mode": {
    "name": "ipython",
    "version": 2
   },
   "file_extension": ".py",
   "mimetype": "text/x-python",
   "name": "python",
   "nbconvert_exporter": "python",
   "pygments_lexer": "ipython2",
   "version": "2.7.6"
  }
 },
 "nbformat": 4,
 "nbformat_minor": 5
}
